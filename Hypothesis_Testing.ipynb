{
  "nbformat": 4,
  "nbformat_minor": 0,
  "metadata": {
    "colab": {
      "name": "Hypothesis Testing.ipynb",
      "provenance": [],
      "collapsed_sections": []
    },
    "kernelspec": {
      "name": "python3",
      "display_name": "Python 3"
    },
    "language_info": {
      "name": "python"
    }
  },
  "cells": [
    {
      "cell_type": "markdown",
      "source": [
        "***Z Test***\n",
        "\\\n",
        "Given population variance and population mean is known. Large datasize (n>30)"
      ],
      "metadata": {
        "id": "4fXHnLZtxcZ5"
      }
    },
    {
      "cell_type": "code",
      "source": [
        "import pandas as pd\n",
        "import pandas as pd\n",
        "import seaborn as sn\n",
        "import matplotlib.pyplot as plt"
      ],
      "metadata": {
        "id": "RLEHX8PsxozJ"
      },
      "execution_count": null,
      "outputs": []
    },
    {
      "cell_type": "code",
      "execution_count": null,
      "metadata": {
        "colab": {
          "base_uri": "https://localhost:8080/",
          "height": 206
        },
        "id": "nlVqg5wKxAm5",
        "outputId": "57a808ba-de6e-4c77-f81c-6cf04dafcd7d"
      },
      "outputs": [
        {
          "output_type": "execute_result",
          "data": {
            "text/html": [
              "\n",
              "  <div id=\"df-cc2b9fb2-8d3c-42e7-b59a-e378a7338e6b\">\n",
              "    <div class=\"colab-df-container\">\n",
              "      <div>\n",
              "<style scoped>\n",
              "    .dataframe tbody tr th:only-of-type {\n",
              "        vertical-align: middle;\n",
              "    }\n",
              "\n",
              "    .dataframe tbody tr th {\n",
              "        vertical-align: top;\n",
              "    }\n",
              "\n",
              "    .dataframe thead th {\n",
              "        text-align: right;\n",
              "    }\n",
              "</style>\n",
              "<table border=\"1\" class=\"dataframe\">\n",
              "  <thead>\n",
              "    <tr style=\"text-align: right;\">\n",
              "      <th></th>\n",
              "      <th>Date</th>\n",
              "      <th>Open</th>\n",
              "      <th>High</th>\n",
              "      <th>Low</th>\n",
              "      <th>Last</th>\n",
              "      <th>Close</th>\n",
              "      <th>Total Trade Quantity</th>\n",
              "      <th>Turnover (Lacs)</th>\n",
              "    </tr>\n",
              "  </thead>\n",
              "  <tbody>\n",
              "    <tr>\n",
              "      <th>0</th>\n",
              "      <td>2010-01-04</td>\n",
              "      <td>1121.0</td>\n",
              "      <td>1151.00</td>\n",
              "      <td>1121.00</td>\n",
              "      <td>1134.0</td>\n",
              "      <td>1135.60</td>\n",
              "      <td>101651.0</td>\n",
              "      <td>1157.18</td>\n",
              "    </tr>\n",
              "    <tr>\n",
              "      <th>1</th>\n",
              "      <td>2010-01-05</td>\n",
              "      <td>1146.8</td>\n",
              "      <td>1149.00</td>\n",
              "      <td>1128.75</td>\n",
              "      <td>1135.0</td>\n",
              "      <td>1134.60</td>\n",
              "      <td>59504.0</td>\n",
              "      <td>676.47</td>\n",
              "    </tr>\n",
              "    <tr>\n",
              "      <th>2</th>\n",
              "      <td>2010-01-06</td>\n",
              "      <td>1140.0</td>\n",
              "      <td>1164.25</td>\n",
              "      <td>1130.05</td>\n",
              "      <td>1137.0</td>\n",
              "      <td>1139.60</td>\n",
              "      <td>128908.0</td>\n",
              "      <td>1482.84</td>\n",
              "    </tr>\n",
              "    <tr>\n",
              "      <th>3</th>\n",
              "      <td>2010-01-07</td>\n",
              "      <td>1142.0</td>\n",
              "      <td>1159.40</td>\n",
              "      <td>1119.20</td>\n",
              "      <td>1141.0</td>\n",
              "      <td>1144.15</td>\n",
              "      <td>117871.0</td>\n",
              "      <td>1352.98</td>\n",
              "    </tr>\n",
              "    <tr>\n",
              "      <th>4</th>\n",
              "      <td>2010-01-08</td>\n",
              "      <td>1156.0</td>\n",
              "      <td>1172.00</td>\n",
              "      <td>1140.00</td>\n",
              "      <td>1141.2</td>\n",
              "      <td>1144.05</td>\n",
              "      <td>170063.0</td>\n",
              "      <td>1971.42</td>\n",
              "    </tr>\n",
              "  </tbody>\n",
              "</table>\n",
              "</div>\n",
              "      <button class=\"colab-df-convert\" onclick=\"convertToInteractive('df-cc2b9fb2-8d3c-42e7-b59a-e378a7338e6b')\"\n",
              "              title=\"Convert this dataframe to an interactive table.\"\n",
              "              style=\"display:none;\">\n",
              "        \n",
              "  <svg xmlns=\"http://www.w3.org/2000/svg\" height=\"24px\"viewBox=\"0 0 24 24\"\n",
              "       width=\"24px\">\n",
              "    <path d=\"M0 0h24v24H0V0z\" fill=\"none\"/>\n",
              "    <path d=\"M18.56 5.44l.94 2.06.94-2.06 2.06-.94-2.06-.94-.94-2.06-.94 2.06-2.06.94zm-11 1L8.5 8.5l.94-2.06 2.06-.94-2.06-.94L8.5 2.5l-.94 2.06-2.06.94zm10 10l.94 2.06.94-2.06 2.06-.94-2.06-.94-.94-2.06-.94 2.06-2.06.94z\"/><path d=\"M17.41 7.96l-1.37-1.37c-.4-.4-.92-.59-1.43-.59-.52 0-1.04.2-1.43.59L10.3 9.45l-7.72 7.72c-.78.78-.78 2.05 0 2.83L4 21.41c.39.39.9.59 1.41.59.51 0 1.02-.2 1.41-.59l7.78-7.78 2.81-2.81c.8-.78.8-2.07 0-2.86zM5.41 20L4 18.59l7.72-7.72 1.47 1.35L5.41 20z\"/>\n",
              "  </svg>\n",
              "      </button>\n",
              "      \n",
              "  <style>\n",
              "    .colab-df-container {\n",
              "      display:flex;\n",
              "      flex-wrap:wrap;\n",
              "      gap: 12px;\n",
              "    }\n",
              "\n",
              "    .colab-df-convert {\n",
              "      background-color: #E8F0FE;\n",
              "      border: none;\n",
              "      border-radius: 50%;\n",
              "      cursor: pointer;\n",
              "      display: none;\n",
              "      fill: #1967D2;\n",
              "      height: 32px;\n",
              "      padding: 0 0 0 0;\n",
              "      width: 32px;\n",
              "    }\n",
              "\n",
              "    .colab-df-convert:hover {\n",
              "      background-color: #E2EBFA;\n",
              "      box-shadow: 0px 1px 2px rgba(60, 64, 67, 0.3), 0px 1px 3px 1px rgba(60, 64, 67, 0.15);\n",
              "      fill: #174EA6;\n",
              "    }\n",
              "\n",
              "    [theme=dark] .colab-df-convert {\n",
              "      background-color: #3B4455;\n",
              "      fill: #D2E3FC;\n",
              "    }\n",
              "\n",
              "    [theme=dark] .colab-df-convert:hover {\n",
              "      background-color: #434B5C;\n",
              "      box-shadow: 0px 1px 3px 1px rgba(0, 0, 0, 0.15);\n",
              "      filter: drop-shadow(0px 1px 2px rgba(0, 0, 0, 0.3));\n",
              "      fill: #FFFFFF;\n",
              "    }\n",
              "  </style>\n",
              "\n",
              "      <script>\n",
              "        const buttonEl =\n",
              "          document.querySelector('#df-cc2b9fb2-8d3c-42e7-b59a-e378a7338e6b button.colab-df-convert');\n",
              "        buttonEl.style.display =\n",
              "          google.colab.kernel.accessAllowed ? 'block' : 'none';\n",
              "\n",
              "        async function convertToInteractive(key) {\n",
              "          const element = document.querySelector('#df-cc2b9fb2-8d3c-42e7-b59a-e378a7338e6b');\n",
              "          const dataTable =\n",
              "            await google.colab.kernel.invokeFunction('convertToInteractive',\n",
              "                                                     [key], {});\n",
              "          if (!dataTable) return;\n",
              "\n",
              "          const docLinkHtml = 'Like what you see? Visit the ' +\n",
              "            '<a target=\"_blank\" href=https://colab.research.google.com/notebooks/data_table.ipynb>data table notebook</a>'\n",
              "            + ' to learn more about interactive tables.';\n",
              "          element.innerHTML = '';\n",
              "          dataTable['output_type'] = 'display_data';\n",
              "          await google.colab.output.renderOutput(dataTable, element);\n",
              "          const docLink = document.createElement('div');\n",
              "          docLink.innerHTML = docLinkHtml;\n",
              "          element.appendChild(docLink);\n",
              "        }\n",
              "      </script>\n",
              "    </div>\n",
              "  </div>\n",
              "  "
            ],
            "text/plain": [
              "         Date    Open     High  ...    Close  Total Trade Quantity  Turnover (Lacs)\n",
              "0  2010-01-04  1121.0  1151.00  ...  1135.60              101651.0          1157.18\n",
              "1  2010-01-05  1146.8  1149.00  ...  1134.60               59504.0           676.47\n",
              "2  2010-01-06  1140.0  1164.25  ...  1139.60              128908.0          1482.84\n",
              "3  2010-01-07  1142.0  1159.40  ...  1144.15              117871.0          1352.98\n",
              "4  2010-01-08  1156.0  1172.00  ...  1144.05              170063.0          1971.42\n",
              "\n",
              "[5 rows x 8 columns]"
            ]
          },
          "metadata": {},
          "execution_count": 16
        }
      ],
      "source": [
        "passport_df = pd.read_csv('BEML.csv')\n",
        "passport_df.head()"
      ]
    },
    {
      "cell_type": "code",
      "source": [
        "print(list(passport_df.Close))"
      ],
      "metadata": {
        "colab": {
          "base_uri": "https://localhost:8080/"
        },
        "id": "x9ax4I4YxvXi",
        "outputId": "623649ec-f2ca-4583-87b5-97a3f4c83b0a"
      },
      "execution_count": null,
      "outputs": [
        {
          "output_type": "stream",
          "name": "stdout",
          "text": [
            "[1135.6, 1134.6, 1139.6, 1144.15, 1144.05, 1137.0, 1143.65, 1142.25, 1148.2, 1207.05, 1236.25, 1221.25, 1186.2, 1150.15, 1170.75, 1154.7, 1058.6, 1039.3, 1068.95, 1140.1, 1107.95, 1118.8, 1090.3, 1070.45, 1080.4, 1095.65, 1109.0, 1095.45, 1120.55, 1139.65, 1137.9, 1142.75, 1131.0, 1116.4, 1094.0, 1065.0, 1046.45, 1011.15, 1013.55, 1042.0, 1035.85, 1048.9, 1064.3, 1069.8, 1063.75, 1059.55, 1044.85, 1036.15, 1019.55, 1029.2, 1038.85, 1049.25, 1063.1, 1050.2, 1045.1, 1033.85, 1050.45, 1057.6, 1047.95, 1049.6, 1059.0, 1064.15, 1087.85, 1076.45, 1069.6, 1077.05, 1081.3, 1074.65, 1067.45, 1046.3, 1036.45, 1038.55, 1031.25, 1025.6, 1032.95, 1050.4, 1050.9, 1047.05, 1049.4, 1048.05, 1038.05, 1026.7, 1012.2, 1014.85, 988.25, 1006.5, 995.2, 995.0, 1009.4, 1005.05, 1002.65, 1048.6, 984.85, 991.05, 995.4, 999.5, 975.7, 976.7, 963.9, 981.3, 970.55, 965.0, 968.25, 994.0, 1000.55, 978.05, 996.75, 996.95, 999.3, 1001.15, 1013.7, 1011.55, 1010.4, 1013.75, 1021.85, 1036.35, 1021.2, 1027.5, 1003.7, 1008.95, 1010.2, 998.3, 1000.6, 995.0, 1000.2, 984.4, 996.4, 1002.15, 999.35, 1001.25, 999.25, 996.2, 1014.25, 1018.2, 1003.95, 1020.35, 1021.25, 1033.5, 1028.15, 1020.55, 1017.5, 1014.65, 1014.1, 1008.4, 1015.95, 1030.95, 1027.05, 1026.15, 1025.45, 1013.65, 1010.7, 1005.6, 995.8, 992.05, 1009.2, 1009.9, 1016.0, 1019.1, 1022.45, 1020.3, 1021.15, 1020.45, 1022.1, 1002.35, 1004.05, 1009.3, 1009.0, 1013.15, 1061.1, 1134.05, 1195.05, 1188.0, 1172.3, 1205.95, 1185.1, 1170.3, 1168.1, 1152.6, 1164.8, 1161.35, 1141.1, 1137.85, 1110.55, 1090.8, 1114.9, 1112.95, 1106.05, 1079.15, 1107.45, 1144.3, 1190.25, 1178.1, 1152.4, 1144.65, 1157.9, 1144.8, 1141.65, 1145.35, 1139.35, 1121.7, 1133.0, 1129.6, 1146.35, 1142.45, 1130.15, 1131.4, 1124.75, 1094.15, 1123.65, 1110.85, 1100.9, 1128.95, 1136.15, 1133.85, 1135.3, 1120.75, 1127.6, 1125.85, 1103.55, 1099.85, 1104.0, 1100.45, 1093.5, 1085.85, 1077.65, 1065.0, 1041.5, 990.7, 980.2, 982.9, 1018.4, 1026.15, 1009.2, 1005.6, 1023.45, 1004.95, 1000.3, 998.0, 999.7, 1004.95, 991.8, 989.0, 992.3, 997.75, 992.65, 993.1, 994.3, 979.55, 977.6, 984.05, 998.8, 1032.25, 1028.2, 1023.75, 1006.65, 993.95, 987.05, 967.25, 962.2, 967.35, 954.15, 949.7, 945.2, 939.9, 940.8, 942.85, 949.15, 943.55, 929.35, 905.5, 887.7, 870.1, 829.3, 819.7, 813.95, 794.65, 759.85, 675.3, 584.85, 589.2, 614.45, 651.0, 660.7, 668.75, 679.65, 658.55, 668.0, 663.95, 660.4, 633.6, 613.5, 620.45, 642.85, 646.6, 643.7, 637.55, 641.0, 662.45, 654.2, 665.95, 671.45, 673.4, 675.4, 669.95, 660.05, 662.6, 661.45, 679.95, 685.9, 698.3, 692.15, 691.25, 693.55, 681.95, 705.95, 737.6, 749.9, 750.6, 759.25, 736.05, 722.85, 729.95, 728.15, 724.3, 715.9, 723.05, 725.35, 727.7, 724.3, 720.9, 708.35, 694.85, 670.6, 662.8, 674.05, 657.65, 668.7, 665.8, 661.35, 660.95, 657.55, 659.3, 652.15, 646.55, 640.45, 638.8, 643.55, 630.35, 622.85, 613.0, 625.25, 650.85, 646.85, 653.1, 612.45, 603.75, 604.0, 598.45, 599.0, 599.65, 599.5, 596.35, 588.25, 583.75, 584.95, 579.75, 587.95, 572.7, 559.4, 541.2, 552.15, 568.15, 578.0, 583.5, 592.75, 580.2, 589.35, 594.45, 610.05, 607.15, 609.25, 602.75, 598.35, 590.15, 594.2, 595.8, 589.45, 583.2, 581.5, 576.75, 568.9, 570.1, 575.6, 557.35, 560.6, 546.45, 549.3, 541.2, 533.9, 529.1, 522.05, 500.0, 490.8, 480.35, 485.35, 482.3, 481.65, 451.7, 444.75, 435.9, 418.85, 440.25, 449.75, 448.25, 446.45, 439.8, 452.55, 463.4, 463.85, 470.15, 468.65, 472.25, 468.9, 455.2, 457.75, 473.7, 482.4, 478.5, 481.35, 474.4, 480.75, 491.7, 469.0, 455.05, 449.5, 472.25, 463.65, 461.9, 457.8, 458.95, 455.95, 449.6, 468.1, 489.6, 487.1, 490.8, 488.8, 514.7, 508.8, 491.2, 492.9, 484.05, 481.95, 482.0, 484.65, 495.65, 525.8, 529.0, 523.05, 516.65, 531.8, 543.45, 548.05, 538.35, 528.3, 520.75, 499.9, 487.35, 494.15, 488.25, 482.95, 472.85, 449.05, 462.2, 484.0, 497.5, 500.2, 504.45, 504.3, 515.7, 518.2, 517.3, 507.55, 504.2, 485.45, 480.1, 479.3, 471.55, 460.1, 462.05, 468.5, 470.0, 463.45, 463.6, 469.25, 466.9, 469.3, 455.0, 455.15, 459.4, 466.3, 472.75, 471.1, 476.3, 486.0, 497.15, 507.1, 513.35, 516.0, 517.05, 517.8, 528.05, 508.9, 533.8, 528.3, 529.75, 529.75, 528.75, 529.55, 520.3, 530.3, 534.8, 532.1, 548.2, 573.3, 549.15, 555.75, 570.95, 577.85, 572.7, 587.2, 594.55, 608.75, 634.0, 637.7, 640.6, 644.65, 653.95, 643.1, 667.45, 665.6, 664.7, 662.45, 659.7, 666.9, 670.0, 660.55, 667.8, 688.95, 683.5, 688.75, 684.3, 689.4, 669.25, 660.7, 682.05, 671.5, 678.05, 669.85, 656.2, 624.95, 610.7, 653.65, 621.55, 618.4, 619.05, 608.7, 580.75, 565.85, 582.35, 584.5, 579.75, 573.95, 576.05, 561.9, 553.9, 554.75, 546.05, 547.4, 532.7, 529.75, 531.35, 533.6, 526.95, 523.75, 521.8, 513.0, 523.45, 519.45, 528.75, 527.45, 505.6, 517.95, 508.45, 515.55, 474.25, 482.65, 468.25, 462.15, 458.95, 455.9, 454.4, 436.05, 428.85, 430.4, 417.4, 417.45, 409.65, 410.25, 407.1, 383.85, 374.0, 384.0, 377.0, 370.3, 372.2, 370.65, 370.0, 378.55, 381.6, 378.45, 381.0, 382.7, 379.65, 375.0, 377.35, 394.05, 405.85, 408.85, 411.3, 407.4, 389.95, 388.75, 385.4, 380.0, 376.9, 370.65, 365.45, 362.6, 364.05, 363.45, 354.7, 350.85, 337.7, 320.1, 311.4, 316.1, 318.5, 323.25, 325.45, 319.0, 317.8, 310.3, 309.85, 300.7, 287.4, 289.9, 291.7, 291.05, 283.05, 277.05, 278.05, 279.75, 270.45, 273.15, 278.05, 281.55, 277.35, 275.85, 278.75, 283.65, 284.95, 278.75, 280.1, 279.35, 278.85, 275.6, 274.0, 271.75, 278.3, 311.55, 316.55, 305.8, 313.1, 314.3, 313.75, 310.5, 305.0, 308.3, 310.55, 330.1, 331.05, 329.85, 323.25, 322.2, 315.45, 318.6, 318.35, 315.0, 309.85, 308.6, 314.15, 309.1, 303.7, 308.9, 310.05, 303.9, 301.2, 293.8, 289.25, 293.15, 295.4, 292.8, 292.05, 292.05, 291.75, 288.2, 277.4, 282.85, 278.5, 276.1, 274.85, 271.95, 271.45, 272.8, 272.0, 272.35, 272.7, 276.05, 283.7, 288.25, 291.6, 308.0, 311.2, 306.65, 305.5, 298.6, 295.15, 291.2, 288.75, 285.15, 282.85, 284.9, 281.1, 279.75, 279.5, 279.85, 279.4, 279.2, 279.3, 284.0, 286.25, 285.0, 283.75, 284.15, 284.05, 281.8, 278.55, 275.2, 277.3, 277.5, 276.4, 275.85, 277.15, 278.3, 276.1, 272.55, 267.25, 265.8, 269.1, 266.7, 265.9, 265.45, 265.4, 261.75, 259.45, 259.8, 263.1, 261.45, 253.7, 250.65, 250.55, 245.25, 240.6, 243.5, 243.0, 243.75, 243.05, 250.65, 248.9, 241.4, 235.65, 224.45, 218.05, 211.0, 210.15, 209.15, 206.85, 208.1, 206.15, 203.45, 197.5, 193.0, 186.6, 179.7, 172.55, 162.4, 152.9, 148.5, 142.25, 140.4, 146.95, 153.1, 165.7, 171.3, 170.4, 172.8, 163.65, 156.95, 161.0, 161.9, 160.4, 159.45, 164.35, 163.65, 163.75, 164.95, 167.3, 168.45, 164.5, 163.7, 160.65, 160.95, 159.75, 167.45, 173.3, 175.25, 168.95, 170.35, 172.0, 167.1, 166.35, 167.95, 171.05, 186.4, 185.55, 182.65, 177.65, 165.4, 165.3, 166.3, 167.45, 167.95, 183.3, 175.5, 173.05, 172.25, 171.9, 170.15, 169.95, 165.65, 163.45, 157.75, 153.25, 159.05, 157.65, 163.8, 166.2, 157.05, 152.4, 151.1, 151.95, 149.6, 149.85, 155.15, 163.2, 159.7, 162.65, 163.05, 161.3, 161.95, 165.1, 161.6, 164.45, 163.4, 166.6, 163.6, 169.2, 172.85, 175.65, 170.6, 170.75, 166.5, 164.9, 158.25, 153.55, 148.15, 143.45, 141.65, 134.8, 135.35, 130.4, 132.4, 143.1, 144.75, 145.45, 141.85, 136.05, 129.15, 129.8, 129.2, 131.65, 147.05, 147.6, 139.6, 136.0, 140.5, 139.55, 141.45, 143.55, 147.45, 150.05, 147.0, 148.95, 150.7, 153.15, 152.8, 149.9, 146.6, 149.15, 154.7, 144.15, 144.0, 143.8, 144.85, 145.85, 143.2, 140.15, 141.2, 151.4, 176.55, 173.0, 167.4, 169.65, 173.1, 170.7, 168.55, 168.85, 167.05, 169.4, 172.0, 177.75, 174.9, 174.2, 171.6, 169.55, 171.4, 186.9, 187.65, 187.35, 189.3, 195.5, 195.35, 189.15, 183.25, 177.25, 180.05, 181.2, 183.65, 184.75, 185.55, 182.55, 180.9, 179.75, 182.45, 180.8, 179.95, 182.45, 182.95, 195.75, 194.4, 189.9, 196.3, 208.35, 215.3, 209.1, 212.3, 207.35, 197.7, 204.2, 206.4, 203.7, 205.85, 210.05, 234.8, 240.85, 244.1, 239.4, 241.95, 236.05, 237.05, 227.1, 220.2, 221.45, 223.2, 212.85, 208.55, 203.5, 206.8, 210.05, 216.25, 215.65, 207.5, 209.15, 209.5, 208.0, 207.55, 206.3, 194.3, 194.85, 197.95, 186.7, 189.45, 183.3, 205.25, 198.5, 195.95, 195.4, 198.2, 198.0, 198.7, 194.45, 196.7, 197.3, 198.9, 197.2, 198.2, 203.65, 208.2, 205.5, 208.7, 206.95, 208.85, 208.75, 208.6, 216.25, 228.55, 239.4, 237.1, 245.6, 262.4, 260.55, 266.7, 273.5, 272.7, 269.5, 267.1, 290.05, 287.9, 288.75, 292.15, 289.25, 292.15, 288.4, 300.2, 304.65, 334.15, 325.85, 338.75, 398.95, 430.15, 399.7, 399.85, 395.95, 398.15, 404.5, 410.45, 399.95, 391.4, 394.2, 387.5, 398.6, 393.65, 398.65, 396.3, 392.15, 416.2, 410.3, 446.25, 456.6, 448.75, 466.9, 559.5, 568.95, 588.85, 604.8, 594.15, 610.4, 583.25, 605.0, 612.5, 652.85, 671.05, 670.2, 660.7, 688.05, 738.5, 778.35, 813.95, 796.05, 778.1, 751.05, 763.35, 773.8, 795.45, 810.25, 780.15, 803.9, 850.05, 866.75, 824.1, 807.2, 796.3, 782.0, 789.25, 778.4, 776.9, 815.7, 774.95, 736.25, 710.85, 675.35, 641.6, 662.5, 651.5, 684.05, 698.65, 707.5, 690.45, 659.85, 649.0, 633.6, 609.8, 618.6, 630.5, 611.25, 640.05, 669.3, 684.95, 671.3, 644.6, 619.25, 618.25, 587.35, 558.4, 583.6, 569.35, 561.7, 552.55, 545.25, 542.6, 515.5, 541.25, 568.3, 596.7, 626.5, 638.2, 612.45, 654.7, 662.5, 648.3, 620.15, 682.15, 699.8, 687.55, 652.15, 663.3, 675.95, 658.95, 667.05, 647.25, 628.0, 580.8, 593.95, 611.25, 614.95, 609.55, 576.9, 582.0, 596.3, 585.75, 582.15, 577.6, 549.9, 550.85, 557.9, 653.7, 654.45, 648.1, 682.35, 662.0, 661.75, 672.15, 677.45, 679.2, 672.0, 681.85, 731.05, 740.45, 727.7, 712.25, 728.0, 702.35, 710.65, 714.0, 706.8, 706.95, 717.85, 693.2, 700.2, 699.1, 710.3, 701.5, 743.0, 790.85, 830.6, 810.7, 775.7, 781.9, 800.1, 762.15, 749.35, 728.2, 672.9, 685.05, 710.7, 687.85, 693.7, 680.45, 689.35, 698.35, 700.25, 750.95, 793.8, 789.7, 785.55, 774.55, 758.35, 792.35, 790.0, 793.45, 873.0, 871.65, 887.7, 887.85, 919.35, 926.4, 910.2, 915.65, 913.45, 912.25, 924.35, 913.0, 908.55, 905.05, 925.65, 937.25, 913.8, 912.35, 902.35, 855.4, 866.35, 959.4, 933.1, 922.85, 955.9, 990.85, 989.35, 980.05, 989.6, 986.45, 981.7, 962.95, 979.85, 976.0, 977.15, 980.35, 1037.0, 1040.35, 1006.3, 1019.4, 1013.35, 1015.8, 1022.6, 1021.4, 1100.8, 1107.55, 1094.5, 1056.15, 1041.4, 1058.2, 1025.25, 1020.3, 1009.0, 1066.6, 1097.0, 1139.2, 1161.35, 1163.3, 1159.05, 1168.8, 1158.45, 1135.95, 1098.05, 1065.1, 1091.6, 1067.2, 1062.65, 1022.0, 1025.25, 994.45, 929.7, 931.2, 966.3, 980.5, 1001.2, 1026.5, 949.1, 869.2, 881.65, 907.2, 878.9, 914.25, 920.9, 924.55, 940.0, 943.3, 946.0, 934.65, 945.4, 939.9, 947.8, 944.9, 977.25, 1037.15, 1059.05, 1038.3, 1061.35, 1135.95, 1186.1, 1183.95, 1215.95, 1219.25, 1227.7, 1241.95, 1223.0, 1238.15, 1255.25, 1251.05, 1245.65, 1259.8, 1263.55, 1240.4, 1208.1, 1216.75, 1196.5, 1211.0, 1240.45, 1300.95, 1328.3, 1323.3, 1350.35, 1312.2, 1311.5, 1326.4, 1348.1, 1347.35, 1357.0, 1424.7, 1474.1, 1497.05, 1541.6, 1502.95, 1515.05, 1481.9, 1454.2, 1486.95, 1478.55, 1507.75, 1519.6, 1549.9, 1558.5, 1546.8, 1519.95, 1487.55, 1407.7, 1415.1, 1381.15, 1377.0, 1373.3, 1354.1, 1363.45, 1338.45, 1320.65, 1310.95, 1206.9, 1256.1, 1266.8, 1291.2, 1263.75, 1296.9, 1233.35, 1217.9, 1235.5, 1214.75, 1187.05, 1190.4, 1222.15, 1200.65, 1189.65, 1181.45, 1150.5, 1147.05, 1171.35, 1223.95, 1235.8, 1246.8, 1261.85, 1243.4, 1211.7, 1242.6, 1243.8, 1250.1, 1280.75, 1268.15, 1260.4, 1245.8, 1220.85, 1218.85, 1239.15, 1225.3, 1224.7, 1220.15, 1241.35, 1246.8, 1237.65, 1213.9, 1201.35, 1206.9, 1174.95, 1165.55, 1129.4, 1109.1, 1100.1, 1098.05, 1108.65, 1127.55, 1110.65, 1115.2, 1093.3, 1101.7, 1090.1, 1047.7, 1041.8, 1068.85, 1054.15, 1056.8, 1068.05, 1125.5, 1132.65, 1127.7, 1099.6, 1077.65, 1107.8, 1100.25, 1077.6, 1051.7, 1066.4, 1069.55, 1076.4, 1090.7, 1123.1, 1216.9, 1263.0, 1249.85, 1263.15, 1262.1, 1285.9, 1287.65, 1295.35, 1280.8, 1281.1, 1300.7, 1276.0, 1271.9, 1256.4, 1209.4, 1214.75, 1224.5, 1228.55, 1215.45, 1200.55, 1162.8, 1117.15, 1114.1, 1096.5, 1073.05, 1098.9, 1101.75, 1084.35, 1063.35, 1049.4, 1048.0, 1041.65, 1003.2, 996.1, 1028.95, 1037.2, 1011.0, 1000.9, 969.15, 937.95, 983.15, 959.25, 954.55, 940.65, 971.55, 1040.55, 1014.55, 1017.4, 977.95, 952.75, 945.45, 990.2, 1029.5, 1044.75, 1053.25, 1058.55, 1056.1, 1038.0, 1035.5, 1034.65, 1030.25, 1030.85, 1024.7, 1017.9, 1068.75, 1091.5, 1090.9, 1054.75, 1035.55, 1032.95, 1044.1, 1028.45, 1016.6, 975.15, 941.9, 918.7, 888.2, 882.4, 904.85, 941.55, 952.55, 947.2, 932.8, 939.35, 918.1, 931.45, 939.15, 918.95, 920.95, 918.5, 916.15, 897.75, 892.9, 873.0, 908.05, 916.75, 912.95, 916.95, 899.65, 901.0, 902.6, 898.9, 874.85, 862.4, 849.5, 819.35, 817.45, 826.7, 854.25, 884.5, 870.35, 846.15, 841.4, 827.95, 833.5, 835.45, 869.25, 869.0, 863.6, 851.45, 850.3, 848.5, 839.0, 835.75, 867.6, 858.5, 846.7, 843.1, 830.5, 840.8, 840.0, 852.75, 854.1, 876.4, 898.2, 906.2, 893.35, 885.85, 892.35, 885.4, 880.9, 938.7, 942.15, 937.3, 937.95, 960.2, 957.7, 982.45, 983.9, 975.45, 992.15, 1004.05, 1013.7, 1017.35, 1001.05, 973.35, 991.15, 1037.75, 1020.4, 1002.3, 1011.15, 987.1, 992.15, 1009.05, 1022.3, 1027.25, 1039.15, 1020.0, 1024.35, 1033.1, 1037.45, 1056.35, 1059.05, 1066.2, 1065.85, 1066.2, 1079.35, 1066.45, 1082.15, 1082.85, 1073.3, 1046.85, 1025.15, 900.15, 922.05, 909.95, 905.0, 899.65, 910.9, 914.95, 919.0, 904.55, 908.85, 874.85, 876.05, 901.75, 910.15, 903.35, 912.25, 908.25, 906.55, 912.3, 945.5, 927.2, 933.65, 932.1, 940.55, 927.85, 928.0, 935.1, 914.9, 920.65, 941.05, 939.4, 924.9, 914.9, 891.55, 877.45, 887.45, 909.65, 869.95, 909.05, 887.7, 863.15, 863.45, 821.65, 821.8, 807.85, 785.05, 786.05, 786.3, 805.05, 825.6, 837.5, 843.05, 830.65, 827.95, 839.5, 873.0, 863.55, 915.4, 927.4, 906.05, 912.3, 897.35, 926.65, 916.55, 914.6, 906.2, 924.7, 963.7, 971.55, 950.25, 975.7, 974.4, 986.05, 1000.6]\n"
          ]
        }
      ]
    },
    {
      "cell_type": "code",
      "source": [
        "from scipy import stats\n",
        "import math\n",
        "\n",
        "def z_test (pop_mean, pop_std, sample):\n",
        "  z_score = (sample.mean()-pop_mean)/(pop_std/math.sqrt(len(sample)))\n",
        "  return z_score, stats.norm.cdf(z_score)"
      ],
      "metadata": {
        "id": "D1llAJvOyIcG"
      },
      "execution_count": null,
      "outputs": []
    },
    {
      "cell_type": "code",
      "source": [
        "z_test(700,50, passport_df.Close)"
      ],
      "metadata": {
        "colab": {
          "base_uri": "https://localhost:8080/"
        },
        "id": "-Ryf2N-_yeQ0",
        "outputId": "6645b230-768d-44ac-fe5a-b95a89049b0a"
      },
      "execution_count": null,
      "outputs": [
        {
          "output_type": "execute_result",
          "data": {
            "text/plain": [
              "(-1.305066635883301, 0.09593507921630612)"
            ]
          },
          "metadata": {},
          "execution_count": 23
        }
      ]
    },
    {
      "cell_type": "markdown",
      "source": [
        "p-value > 5 hence Null Hypothesis is retained and processing value is greated than 700."
      ],
      "metadata": {
        "id": "CLGuTXXmzrmm"
      }
    },
    {
      "cell_type": "markdown",
      "source": [
        "***One-Sample t-test***"
      ],
      "metadata": {
        "id": "WFGlwk3T0RiE"
      }
    },
    {
      "cell_type": "code",
      "source": [
        "#Popukation statdard deviation is unknown\n",
        "\n",
        "stats.ttest_1samp(passport_df.Close,700)"
      ],
      "metadata": {
        "colab": {
          "base_uri": "https://localhost:8080/"
        },
        "id": "75BtSj6IzDSJ",
        "outputId": "daa5aa26-da71-461e-e733-63063e7ea060"
      },
      "execution_count": null,
      "outputs": [
        {
          "output_type": "execute_result",
          "data": {
            "text/plain": [
              "Ttest_1sampResult(statistic=-0.18256261522448428, pvalue=0.8551625117700151)"
            ]
          },
          "metadata": {},
          "execution_count": 26
        }
      ]
    },
    {
      "cell_type": "markdown",
      "source": [
        "**Two-Sample t_Test**"
      ],
      "metadata": {
        "id": "84Aazj7c1ghv"
      }
    },
    {
      "cell_type": "code",
      "source": [
        "#When Sigam unknown, Given test different between 2 population means\n",
        "\n",
        "sn.distplot(passport_df['Close'], label='Close')\n",
        "sn.distplot(passport_df['Last'], label='Last')\n",
        "plt.legend()"
      ],
      "metadata": {
        "colab": {
          "base_uri": "https://localhost:8080/",
          "height": 389
        },
        "id": "7SBIFCQh1Ym8",
        "outputId": "55c7292c-ec44-4a9d-cc83-6f8f4dadbdb2"
      },
      "execution_count": null,
      "outputs": [
        {
          "output_type": "stream",
          "name": "stderr",
          "text": [
            "/usr/local/lib/python3.7/dist-packages/seaborn/distributions.py:2619: FutureWarning: `distplot` is a deprecated function and will be removed in a future version. Please adapt your code to use either `displot` (a figure-level function with similar flexibility) or `histplot` (an axes-level function for histograms).\n",
            "  warnings.warn(msg, FutureWarning)\n",
            "/usr/local/lib/python3.7/dist-packages/seaborn/distributions.py:2619: FutureWarning: `distplot` is a deprecated function and will be removed in a future version. Please adapt your code to use either `displot` (a figure-level function with similar flexibility) or `histplot` (an axes-level function for histograms).\n",
            "  warnings.warn(msg, FutureWarning)\n"
          ]
        },
        {
          "output_type": "execute_result",
          "data": {
            "text/plain": [
              "<matplotlib.legend.Legend at 0x7fdc77ab1ad0>"
            ]
          },
          "metadata": {},
          "execution_count": 32
        },
        {
          "output_type": "display_data",
          "data": {
            "image/png": "[encoded data removed]",
            "text/plain": [
              "<Figure size 432x288 with 1 Axes>"
            ]
          },
          "metadata": {
            "needs_background": "light"
          }
        }
      ]
    },
    {
      "cell_type": "code",
      "source": [
        "stats.ttest_ind(passport_df['Close'],passport_df['Last'])"
      ],
      "metadata": {
        "colab": {
          "base_uri": "https://localhost:8080/"
        },
        "id": "xBylGSiu2Pam",
        "outputId": "d0b045d2-2939-418e-b71d-7cf861384ba2"
      },
      "execution_count": null,
      "outputs": [
        {
          "output_type": "execute_result",
          "data": {
            "text/plain": [
              "Ttest_indResult(statistic=0.0018028981577119154, pvalue=0.9985615996307708)"
            ]
          },
          "metadata": {},
          "execution_count": 33
        }
      ]
    },
    {
      "cell_type": "markdown",
      "source": [
        "**Paired Sample t-Test**"
      ],
      "metadata": {
        "id": "zsNavA2H2_-0"
      }
    },
    {
      "cell_type": "code",
      "source": [
        "#When an event is measured before and after an intervnetion\n",
        "\n",
        "stats.ttest_rel(passport_df['Close'],passport_df['Last'])"
      ],
      "metadata": {
        "colab": {
          "base_uri": "https://localhost:8080/"
        },
        "id": "PqEXg3Ok28Be",
        "outputId": "30802bdb-7158-40b9-e8fc-2c2db3c11d1c"
      },
      "execution_count": null,
      "outputs": [
        {
          "output_type": "execute_result",
          "data": {
            "text/plain": [
              "Ttest_relResult(statistic=0.2561324646819162, pvalue=0.7978788665287452)"
            ]
          },
          "metadata": {},
          "execution_count": 34
        }
      ]
    },
    {
      "cell_type": "markdown",
      "source": [
        "**Chi-Squared Goodness of Fit Test**"
      ],
      "metadata": {
        "id": "gGtZ_gvh3uek"
      }
    },
    {
      "cell_type": "code",
      "source": [
        "#non-parametrci test - Compare observed and expected distribution\n",
        "\n",
        "#Observed frequencies\n",
        "f_obs=[190,195,90,35]\n",
        "#Expected frequencies\n",
        "f_exp=[500*.35, 500*.4,500*.2, 500*0.05]\n",
        "f_exp"
      ],
      "metadata": {
        "colab": {
          "base_uri": "https://localhost:8080/"
        },
        "id": "nGx3umFv3Wbv",
        "outputId": "5c517ba8-bea2-40cc-c500-521dbb83b1d9"
      },
      "execution_count": null,
      "outputs": [
        {
          "output_type": "execute_result",
          "data": {
            "text/plain": [
              "[175.0, 200.0, 100.0, 25.0]"
            ]
          },
          "metadata": {},
          "execution_count": 35
        }
      ]
    },
    {
      "cell_type": "code",
      "source": [
        "stats.chisquare(f_obs, f_exp)"
      ],
      "metadata": {
        "colab": {
          "base_uri": "https://localhost:8080/"
        },
        "id": "vSkhCvjr4PCg",
        "outputId": "894ef581-efb3-4893-8bea-e9dbed415536"
      },
      "execution_count": null,
      "outputs": [
        {
          "output_type": "execute_result",
          "data": {
            "text/plain": [
              "Power_divergenceResult(statistic=6.410714285714286, pvalue=0.09325100615179929)"
            ]
          },
          "metadata": {},
          "execution_count": 36
        }
      ]
    },
    {
      "cell_type": "code",
      "source": [
        ""
      ],
      "metadata": {
        "id": "1Wem4yOZ4UqF"
      },
      "execution_count": null,
      "outputs": []
    },
    {
      "cell_type": "markdown",
      "source": [
        "**ANOVA**\n",
        "- Compare mean values simultaneously for >2 groups"
      ],
      "metadata": {
        "id": "w5ojsScW4nI5"
      }
    },
    {
      "cell_type": "code",
      "source": [
        "from scipy.stats import f_oneway\n",
        "f_oneway(passport_df['Close'],passport_df['Last'],passport_df['High'])"
      ],
      "metadata": {
        "colab": {
          "base_uri": "https://localhost:8080/"
        },
        "id": "DFt5eUYV4wYg",
        "outputId": "eb5970d6-2a42-44b7-f9bc-5a05c3aaee87"
      },
      "execution_count": null,
      "outputs": [
        {
          "output_type": "execute_result",
          "data": {
            "text/plain": [
              "F_onewayResult(statistic=1.0029253940836167, pvalue=0.3668755723096014)"
            ]
          },
          "metadata": {},
          "execution_count": 37
        }
      ]
    },
    {
      "cell_type": "code",
      "source": [
        ""
      ],
      "metadata": {
        "id": "-gQ2Lja55Oyk"
      },
      "execution_count": null,
      "outputs": []
    }
  ]
}